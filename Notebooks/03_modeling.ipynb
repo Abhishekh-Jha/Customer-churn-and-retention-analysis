{
 "cells": [
  {
   "cell_type": "markdown",
   "id": "cd983bd7",
   "metadata": {},
   "source": [
    " ## Logistic Regression model"
   ]
  },
  {
   "cell_type": "code",
   "execution_count": 114,
   "id": "1ade75c4",
   "metadata": {},
   "outputs": [],
   "source": [
    "import pandas as pd\n",
    "from sklearn.model_selection import train_test_split\n",
    "from sklearn.linear_model import LogisticRegression\n",
    "from sklearn.metrics import accuracy_score, classification_report, confusion_matrix"
   ]
  },
  {
   "cell_type": "code",
   "execution_count": 115,
   "id": "1753fd33",
   "metadata": {},
   "outputs": [],
   "source": [
    "# Section to load cleaned data (Add this new cell)\n",
    "import pandas as pd\n",
    "from sklearn.model_selection import train_test_split\n",
    "\n",
    "# Load the cleaned and preprocessed data\n",
    "df = pd.read_csv(\"Telco_Churn_Cleaned.csv\")\n",
    "\n",
    "# Separate features (X) and target (y)\n",
    "X = df.drop('Churn', axis=1)\n",
    "y = df['Churn']\n",
    "\n",
    "# Split the data into training and testing sets\n",
    "X_train, X_test, y_train, y_test = train_test_split(X, y, test_size=0.2, random_state=42)"
   ]
  },
  {
   "cell_type": "code",
   "execution_count": 116,
   "id": "6c111cbc",
   "metadata": {},
   "outputs": [
    {
     "name": "stdout",
     "output_type": "stream",
     "text": [
      "Preprocessing done. Shape: (7032, 31)\n"
     ]
    }
   ],
   "source": [
    "import pandas as pd\n",
    "from sklearn.preprocessing import LabelEncoder, StandardScaler\n",
    "\n",
    "# Load dataset again\n",
    "df = pd.read_csv(\"../data/WA_Fn-UseC_-Telco-Customer-Churn.csv\")\n",
    "\n",
    "# Convert TotalCharges to numeric and drop rows with missing values\n",
    "df['TotalCharges'] = pd.to_numeric(df['TotalCharges'], errors='coerce')\n",
    "df = df.dropna(subset=['TotalCharges'])\n",
    "df.reset_index(drop=True, inplace=True)\n",
    "\n",
    "# Drop customerID (not useful for modeling)\n",
    "df = df.drop('customerID', axis=1)\n",
    "\n",
    "# Copy for modeling\n",
    "df_model = df.copy()\n",
    "\n",
    "# Label Encode binary categorical columns\n",
    "binary_cols = ['gender','Partner','Dependents','PhoneService','PaperlessBilling','Churn']\n",
    "le = LabelEncoder()\n",
    "for col in binary_cols:\n",
    "    df_model[col] = le.fit_transform(df_model[col])\n",
    "\n",
    "# One-Hot Encode multi-category categorical columns\n",
    "df_model = pd.get_dummies(df_model, drop_first=True)\n",
    "\n",
    "# Scale numeric columns\n",
    "scaler = StandardScaler()\n",
    "num_cols = ['tenure','MonthlyCharges','TotalCharges']\n",
    "df_model[num_cols] = scaler.fit_transform(df_model[num_cols])\n",
    "\n",
    "print(\"Preprocessing done. Shape:\", df_model.shape)\n"
   ]
  },
  {
   "cell_type": "code",
   "execution_count": 117,
   "id": "fa35eccc",
   "metadata": {},
   "outputs": [
    {
     "name": "stdout",
     "output_type": "stream",
     "text": [
      "Shape of features (X): (7032, 30)\n",
      "Shape of target (y): (7032,)\n"
     ]
    }
   ],
   "source": [
    "# Step 3.1: Separate features and target\n",
    "\n",
    "# X -> all features except the target\n",
    "X = df_model.drop('Churn', axis=1)\n",
    "\n",
    "# y -> target column (Churn)\n",
    "y = df_model['Churn']\n",
    "\n",
    "print(\"Shape of features (X):\", X.shape)\n",
    "print(\"Shape of target (y):\", y.shape)\n"
   ]
  },
  {
   "cell_type": "code",
   "execution_count": 118,
   "id": "c52c43c7",
   "metadata": {},
   "outputs": [
    {
     "name": "stdout",
     "output_type": "stream",
     "text": [
      "Training set shape: (5625, 30) (5625,)\n",
      "Testing set shape: (1407, 30) (1407,)\n"
     ]
    }
   ],
   "source": [
    "# Step 3.2: Train-Test Split\n",
    "from sklearn.model_selection import train_test_split\n",
    "\n",
    "# Split dataset: 80% training, 20% testing\n",
    "X_train, X_test, y_train, y_test = train_test_split(\n",
    "    X, y, test_size=0.2, random_state=42, stratify=y\n",
    ")\n",
    "\n",
    "print(\"Training set shape:\", X_train.shape, y_train.shape)\n",
    "print(\"Testing set shape:\", X_test.shape, y_test.shape)\n"
   ]
  },
  {
   "cell_type": "markdown",
   "id": "180e3c05",
   "metadata": {},
   "source": [
    "Insights from Train-Test Split:\n",
    "\n",
    "We've successfully split the dataset into an 80% training set and a 20% testing set.\n",
    "\n",
    "The training set contains 5625 customer records, while the testing set has 1407.\n",
    "\n",
    "The feature space is 30 columns for both sets, which is consistent.\n",
    "\n",
    "By using stratify=y, we ensured that the proportion of churned versus non-churned customers is the same in both the training and testing sets. This is a crucial step to prevent our models from being biased by the class imbalance and to ensure a fair evaluation of performance."
   ]
  },
  {
   "cell_type": "code",
   "execution_count": 119,
   "id": "b9222295",
   "metadata": {},
   "outputs": [
    {
     "name": "stdout",
     "output_type": "stream",
     "text": [
      "Original class distribution: Churn\n",
      "0    4130\n",
      "1    1495\n",
      "Name: count, dtype: int64\n",
      "New class distribution with SMOTE: Churn\n",
      "0    4130\n",
      "1    4130\n",
      "Name: count, dtype: int64\n",
      "Best Hyperparameters: {'max_depth': 20, 'min_samples_leaf': 1, 'min_samples_split': 2, 'n_estimators': 200}\n"
     ]
    }
   ],
   "source": [
    "#Improving Models with SMOTE and Hyperparameter Tuning\n",
    "# New section for SMOTE and Hyperparameter Tuning\n",
    "from imblearn.over_sampling import SMOTE\n",
    "from sklearn.model_selection import GridSearchCV, RandomizedSearchCV\n",
    "from sklearn.ensemble import RandomForestClassifier\n",
    "\n",
    "# Address class imbalance with SMOTE\n",
    "smote = SMOTE(random_state=42)\n",
    "X_train_resampled, y_train_resampled = smote.fit_resample(X_train, y_train)\n",
    "\n",
    "# Print new class distribution to confirm it worked\n",
    "print(\"Original class distribution:\", y_train.value_counts())\n",
    "print(\"New class distribution with SMOTE:\", y_train_resampled.value_counts())\n",
    "\n",
    "# Perform hyperparameter tuning on the Random Forest model\n",
    "param_grid = {\n",
    "    'n_estimators': [100, 200],\n",
    "    'max_depth': [10, 20, None],\n",
    "    'min_samples_split': [2, 5],\n",
    "    'min_samples_leaf': [1, 2]\n",
    "}\n",
    "\n",
    "# Use GridSearchCV to find the best model\n",
    "grid_search = GridSearchCV(\n",
    "    estimator=RandomForestClassifier(random_state=42), \n",
    "    param_grid=param_grid, \n",
    "    cv=5, \n",
    "    scoring='f1',  # F1-score is better for imbalanced data\n",
    "    n_jobs=-1\n",
    ")\n",
    "grid_search.fit(X_train_resampled, y_train_resampled)\n",
    "\n",
    "print(\"Best Hyperparameters:\", grid_search.best_params_)\n",
    "\n",
    "# Save the best model as a new variable\n",
    "best_rf_model = grid_search.best_estimator_"
   ]
  },
  {
   "cell_type": "code",
   "execution_count": 120,
   "id": "959fd95b",
   "metadata": {},
   "outputs": [
    {
     "data": {
      "text/plain": [
       "['best_random_forest_churn_model.pkl']"
      ]
     },
     "execution_count": 120,
     "metadata": {},
     "output_type": "execute_result"
    }
   ],
   "source": [
    "import joblib\n",
    "joblib.dump(best_rf_model, \"best_random_forest_churn_model.pkl\")"
   ]
  },
  {
   "cell_type": "code",
   "execution_count": 121,
   "id": "bec9c72a",
   "metadata": {},
   "outputs": [
    {
     "name": "stdout",
     "output_type": "stream",
     "text": [
      " Logistic Regression model trained successfully!\n"
     ]
    }
   ],
   "source": [
    "# Train a baseline Logistic Regression model\n",
    "from sklearn.linear_model import LogisticRegression\n",
    "\n",
    "# Initialize Logistic Regression\n",
    "log_reg = LogisticRegression(max_iter=1000, random_state=42)\n",
    "\n",
    "# Fit the model on training data\n",
    "log_reg.fit(X_train_resampled, y_train_resampled)\n",
    "\n",
    "# Predict on test data\n",
    "y_pred = log_reg.predict(X_test)\n",
    "\n",
    "print(\" Logistic Regression model trained successfully!\")\n"
   ]
  },
  {
   "cell_type": "code",
   "execution_count": 122,
   "id": "ef394ca0",
   "metadata": {},
   "outputs": [
    {
     "name": "stdout",
     "output_type": "stream",
     "text": [
      "Logistic Regression Performance:\n",
      "Accuracy : 0.7306\n",
      "Precision: 0.4953\n",
      "Recall   : 0.6979\n",
      "F1 Score : 0.5794\n",
      "\n",
      "Confusion Matrix:\n",
      " [[767 266]\n",
      " [113 261]]\n",
      "\n",
      "Detailed Report:\n",
      "               precision    recall  f1-score   support\n",
      "\n",
      "           0       0.87      0.74      0.80      1033\n",
      "           1       0.50      0.70      0.58       374\n",
      "\n",
      "    accuracy                           0.73      1407\n",
      "   macro avg       0.68      0.72      0.69      1407\n",
      "weighted avg       0.77      0.73      0.74      1407\n",
      "\n"
     ]
    }
   ],
   "source": [
    "from sklearn.metrics import accuracy_score, precision_score, recall_score, f1_score, confusion_matrix, classification_report\n",
    "\n",
    "# Accuracy\n",
    "accuracy = accuracy_score(y_test, y_pred)\n",
    "\n",
    "# Precision, Recall, F1\n",
    "precision = precision_score(y_test, y_pred)\n",
    "recall = recall_score(y_test, y_pred)\n",
    "f1 = f1_score(y_test, y_pred)\n",
    "\n",
    "# Confusion Matrix\n",
    "cm = confusion_matrix(y_test, y_pred)\n",
    "\n",
    "# Classification Report\n",
    "report = classification_report(y_test, y_pred)\n",
    "\n",
    "print(\"Logistic Regression Performance:\")\n",
    "print(f\"Accuracy : {accuracy:.4f}\")\n",
    "print(f\"Precision: {precision:.4f}\")\n",
    "print(f\"Recall   : {recall:.4f}\")\n",
    "print(f\"F1 Score : {f1:.4f}\")\n",
    "print(\"\\nConfusion Matrix:\\n\", cm)\n",
    "print(\"\\nDetailed Report:\\n\", report)\n"
   ]
  },
  {
   "cell_type": "code",
   "execution_count": 123,
   "id": "52910940",
   "metadata": {},
   "outputs": [
    {
     "name": "stdout",
     "output_type": "stream",
     "text": [
      "ROC-AUC Score: 0.8148078645345317\n"
     ]
    },
    {
     "data": {
      "image/png": "[encoded data removed]",
      "text/plain": [
       "<Figure size 600x600 with 1 Axes>"
      ]
     },
     "metadata": {},
     "output_type": "display_data"
    }
   ],
   "source": [
    "from sklearn.metrics import roc_auc_score, roc_curve\n",
    "import matplotlib.pyplot as plt\n",
    "\n",
    "# Predicted probabilities for class 1\n",
    "y_prob = log_reg.predict_proba(X_test)[:, 1]\n",
    "\n",
    "# ROC-AUC score\n",
    "roc_auc = roc_auc_score(y_test, y_prob)\n",
    "print(\"ROC-AUC Score:\", roc_auc)\n",
    "\n",
    "# Plot ROC curve\n",
    "fpr, tpr, thresholds = roc_curve(y_test, y_prob)\n",
    "plt.figure(figsize=(6,6))\n",
    "plt.plot(fpr, tpr, label=f'Logistic Regression (AUC = {roc_auc:.2f})')\n",
    "plt.plot([0,1], [0,1], 'k--')  # diagonal line\n",
    "plt.xlabel(\"False Positive Rate\")\n",
    "plt.ylabel(\"True Positive Rate\")\n",
    "plt.title(\"ROC Curve\")\n",
    "plt.legend(loc=\"lower right\")\n",
    "plt.show()\n"
   ]
  },
  {
   "cell_type": "markdown",
   "id": "a9aa905b",
   "metadata": {},
   "source": [
    "Insights from Logistic Regression (after SMOTE):\n",
    "\n",
    "Accuracy: The overall accuracy of the model is now around 73%. This is a drop from the previous accuracy of 80%. This drop is expected and is not a bad thing; it means the model is no longer biased toward the \"No Churn\" majority class and is instead trying to find a better balance between the two classes.\n",
    "\n",
    "Precision: The precision for churners (class 1) is 49.5%. This means that out of all the customers the model predicted would churn, only about half of them actually did. This indicates the model is still generating a fair number of \"false positives\" (customers predicted to churn who don't).\n",
    "\n",
    "Recall: The recall for churners (class 1) is now 69.8%, a significant increase from the previous 57%. This is the most important insight here. The model is now correctly identifying almost 70% of all actual churners, which is a major improvement for the business.\n",
    "\n",
    "F1 Score: The F1 Score, a balanced metric between precision and recall, has slightly increased to 0.58.\n",
    "\n",
    "ROC-AUC Score: The ROC-AUC score is 0.81, which remains strong. This means the model still has a good ability to distinguish between churners and non-churners.\n",
    "\n",
    "Confusion Matrix Analysis:\n",
    "\n",
    "True Negatives (TN): 767 customers who didn't churn were correctly identified.\n",
    "\n",
    "False Positives (FP): 266 loyal customers were incorrectly predicted as churners. This is where the lower precision comes from.\n",
    "\n",
    "False Negatives (FN): 113 actual churners were missed. This number is significantly lower than before, which is a direct result of using SMOTE to improve recall.\n",
    "\n",
    "True Positives (TP): 261 actual churners were correctly identified.\n",
    "\n",
    "Conclusion:\n",
    "By using SMOTE, we have successfully improved the model's ability to catch churners. The model's primary strength is now its high Recall, which is the most critical metric for a churn prediction problem. While this came at a cost to overall accuracy and precision, the model is now far more valuable to a business looking to identify and retain at-risk customers."
   ]
  },
  {
   "cell_type": "markdown",
   "id": "4aff0dcf",
   "metadata": {},
   "source": [
    "## Decision Tree Model"
   ]
  },
  {
   "cell_type": "code",
   "execution_count": 124,
   "id": "9803cfaa",
   "metadata": {},
   "outputs": [],
   "source": [
    "#Import library\n",
    "from sklearn.tree import DecisionTreeClassifier\n",
    "from sklearn.metrics import accuracy_score, precision_score, recall_score, f1_score, confusion_matrix, classification_report\n"
   ]
  },
  {
   "cell_type": "code",
   "execution_count": 125,
   "id": "5a7b857f",
   "metadata": {},
   "outputs": [],
   "source": [
    "#Initialize model\n",
    "# Create Decision Tree model (limiting depth to avoid overfitting)\n",
    "dt_model = DecisionTreeClassifier(random_state=42, max_depth=5)\n",
    "\n"
   ]
  },
  {
   "cell_type": "code",
   "execution_count": 126,
   "id": "b58ab7a2",
   "metadata": {},
   "outputs": [
    {
     "name": "stdout",
     "output_type": "stream",
     "text": [
      " Decision Tree model trained successfully!\n"
     ]
    }
   ],
   "source": [
    "#Train model\n",
    "dt_model.fit(X_train_resampled , y_train_resampled)\n",
    "print(\" Decision Tree model trained successfully!\")\n"
   ]
  },
  {
   "cell_type": "code",
   "execution_count": 127,
   "id": "6d374312",
   "metadata": {},
   "outputs": [],
   "source": [
    "#Predict on test set\n",
    "y_pred_dt = dt_model.predict(X_test)\n",
    "\n"
   ]
  },
  {
   "cell_type": "code",
   "execution_count": 128,
   "id": "53af9b71",
   "metadata": {},
   "outputs": [
    {
     "name": "stdout",
     "output_type": "stream",
     "text": [
      "Decision Tree Performance:\n",
      "Accuracy : 0.7029140014214641\n",
      "Precision: 0.4658385093167702\n",
      "Recall   : 0.8021390374331551\n",
      "F1 Score : 0.5893909626719057\n"
     ]
    }
   ],
   "source": [
    "#Evaluate performance\n",
    "print(\"Decision Tree Performance:\")\n",
    "print(\"Accuracy :\", accuracy_score(y_test, y_pred_dt))\n",
    "print(\"Precision:\", precision_score(y_test, y_pred_dt))\n",
    "print(\"Recall   :\", recall_score(y_test, y_pred_dt))\n",
    "print(\"F1 Score :\", f1_score(y_test, y_pred_dt))\n"
   ]
  },
  {
   "cell_type": "code",
   "execution_count": 129,
   "id": "53323d0e",
   "metadata": {},
   "outputs": [
    {
     "name": "stdout",
     "output_type": "stream",
     "text": [
      "\n",
      "Confusion Matrix:\n",
      " [[689 344]\n",
      " [ 74 300]]\n"
     ]
    }
   ],
   "source": [
    "#Confusion Matrix\n",
    "print(\"\\nConfusion Matrix:\\n\", confusion_matrix(y_test, y_pred_dt))\n"
   ]
  },
  {
   "cell_type": "code",
   "execution_count": 130,
   "id": "ed868f35",
   "metadata": {},
   "outputs": [
    {
     "name": "stdout",
     "output_type": "stream",
     "text": [
      "Decision Tree ROC-AUC Score: 0.823014324096267\n"
     ]
    },
    {
     "data": {
      "image/png": "[encoded data removed]",
      "text/plain": [
       "<Figure size 640x480 with 1 Axes>"
      ]
     },
     "metadata": {},
     "output_type": "display_data"
    }
   ],
   "source": [
    "from sklearn.metrics import roc_auc_score, roc_curve\n",
    "import matplotlib.pyplot as plt\n",
    "\n",
    "# Get predicted probabilities (probability of class 1)\n",
    "y_proba_dt = dt_model.predict_proba(X_test)[:, 1]\n",
    "\n",
    "# Calculate ROC-AUC score\n",
    "roc_auc_dt = roc_auc_score(y_test, y_proba_dt)\n",
    "print(\"Decision Tree ROC-AUC Score:\", roc_auc_dt)\n",
    "\n",
    "# Plot ROC curve\n",
    "fpr, tpr, thresholds = roc_curve(y_test, y_proba_dt)\n",
    "plt.plot(fpr, tpr, label=f\"Decision Tree (AUC = {roc_auc_dt:.3f})\")\n",
    "plt.plot([0,1], [0,1], 'k--')  # Random baseline\n",
    "plt.xlabel(\"False Positive Rate\")\n",
    "plt.ylabel(\"True Positive Rate\")\n",
    "plt.title(\"ROC Curve - Decision Tree\")\n",
    "plt.legend()\n",
    "plt.show()\n"
   ]
  },
  {
   "cell_type": "code",
   "execution_count": 131,
   "id": "29f2aee9",
   "metadata": {},
   "outputs": [
    {
     "name": "stdout",
     "output_type": "stream",
     "text": [
      "\n",
      "Detailed Report:\n",
      "               precision    recall  f1-score   support\n",
      "\n",
      "           0       0.90      0.67      0.77      1033\n",
      "           1       0.47      0.80      0.59       374\n",
      "\n",
      "    accuracy                           0.70      1407\n",
      "   macro avg       0.68      0.73      0.68      1407\n",
      "weighted avg       0.79      0.70      0.72      1407\n",
      "\n"
     ]
    }
   ],
   "source": [
    "#Classification Report\n",
    "print(\"\\nDetailed Report:\\n\", classification_report(y_test, y_pred_dt))\n"
   ]
  },
  {
   "cell_type": "markdown",
   "id": "60a45acb",
   "metadata": {},
   "source": [
    "Insights from Decision Tree Model (after SMOTE)\n",
    "\n",
    "Accuracy: The overall accuracy is now 70.3%. Similar to the Logistic Regression model, this is lower than the original model's accuracy. This is a positive sign because it shows the model is no longer biased toward the majority class and is instead focusing on correctly identifying churners.\n",
    "\n",
    "Precision: The precision for churners (class 1) is 46.6%. This means that when the model predicts a customer will churn, it's correct about 47% of the time. While this number seems low, it's a direct tradeoff for improving our most important metric: recall.\n",
    "\n",
    "Recall: The recall for churners is 80.2%! This is a massive improvement and the most impressive result so far. It means the model is now able to correctly identify over 80% of all customers who will actually churn. This is extremely valuable for a business because it minimizes the number of missed churners.\n",
    "\n",
    "F1 Score: The F1 score is 0.59, which is a good balance between precision and recall, reflecting the model's ability to be useful in a real-world scenario.\n",
    "\n",
    "ROC-AUC Score: The ROC-AUC score is 0.823, which is an excellent result. It shows that the model has a strong ability to distinguish between churners and non-churners.\n",
    "\n",
    "Confusion Matrix Analysis:\n",
    "\n",
    "True Negatives (TN): 689 customers who did not churn were correctly identified.\n",
    "\n",
    "False Positives (FP): 344 loyal customers were incorrectly flagged as churners. This explains the lower precision.\n",
    "\n",
    "False Negatives (FN): Only 74 actual churners were missed! This is a huge reduction from the original model's 151 missed churners and is the most important takeaway for a business.\n",
    "\n",
    "True Positives (TP): 300 actual churners were correctly identified.\n",
    "\n",
    "Conclusion:\n",
    "\n",
    "The Decision Tree model, after being trained on the balanced data, is highly effective for this project's primary goal. Its strength lies in its exceptional Recall score, which is a significant improvement over the other models. This model is a great candidate for deployment, as its ability to identify 80% of potential churners is exactly what a business needs to build a proactive retention strategy."
   ]
  },
  {
   "cell_type": "markdown",
   "id": "45cc0de3",
   "metadata": {},
   "source": [
    "## Random Forest Classifier"
   ]
  },
  {
   "cell_type": "code",
   "execution_count": 132,
   "id": "548ee4bb",
   "metadata": {},
   "outputs": [],
   "source": [
    "#Import the model\n",
    "from sklearn.ensemble import RandomForestClassifier"
   ]
  },
  {
   "cell_type": "code",
   "execution_count": 133,
   "id": "897406bd",
   "metadata": {},
   "outputs": [
    {
     "name": "stdout",
     "output_type": "stream",
     "text": [
      " Random Forest model trained successfully!\n"
     ]
    }
   ],
   "source": [
    "#Initialize the model\n",
    "#We’ll start with basic parameters (random_state=42 for reproducibility).\n",
    "\n",
    "rf_model = RandomForestClassifier(random_state=42)\n",
    "\n",
    "#Train the model\n",
    "#Fit on training data.\n",
    "\n",
    "rf_model.fit(X_train, y_train)\n",
    "print(\" Random Forest model trained successfully!\")"
   ]
  },
  {
   "cell_type": "code",
   "execution_count": 134,
   "id": "2661b437",
   "metadata": {},
   "outputs": [],
   "source": [
    "#Make predictions\n",
    "#Predict on the test set.\n",
    "\n",
    "y_pred_rf = rf_model.predict(X_test)"
   ]
  },
  {
   "cell_type": "code",
   "execution_count": 135,
   "id": "a307ed3d",
   "metadata": {},
   "outputs": [
    {
     "name": "stdout",
     "output_type": "stream",
     "text": [
      "Random Forest Performance:\n",
      "Accuracy : 0.7604832977967306\n",
      "Precision: 0.5408388520971302\n",
      "Recall   : 0.6550802139037433\n",
      "F1 Score : 0.592503022974607\n"
     ]
    }
   ],
   "source": [
    "# In the cell that makes predictions, use your new best_rf_model\n",
    "# Make predictions using the best tuned model\n",
    "y_pred_rf = best_rf_model.predict(X_test)\n",
    "\n",
    "# In the cell that evaluates performance, make sure it is using the new prediction variable y_pred_rf\n",
    "print(\"Random Forest Performance:\")\n",
    "print(\"Accuracy :\", accuracy_score(y_test, y_pred_rf))\n",
    "print(\"Precision:\", precision_score(y_test, y_pred_rf))\n",
    "print(\"Recall   :\", recall_score(y_test, y_pred_rf))\n",
    "print(\"F1 Score :\", f1_score(y_test, y_pred_rf))\n",
    "\n",
    "# Also update the feature importance visualization to use the best model\n",
    "importances = best_rf_model.feature_importances_\n",
    "feature_names = X.columns\n"
   ]
  },
  {
   "cell_type": "code",
   "execution_count": 136,
   "id": "7e49d3a7",
   "metadata": {},
   "outputs": [
    {
     "name": "stdout",
     "output_type": "stream",
     "text": [
      "ROC-AUC Score: 0.8150589374181425\n"
     ]
    },
    {
     "data": {
      "image/png": "[encoded data removed]",
      "text/plain": [
       "<Figure size 600x600 with 1 Axes>"
      ]
     },
     "metadata": {},
     "output_type": "display_data"
    }
   ],
   "source": [
    "from sklearn.metrics import roc_auc_score, roc_curve\n",
    "import matplotlib.pyplot as plt\n",
    "\n",
    "\n",
    "# 1. Get predicted probabilities for class 1\n",
    "y_proba = rf_model.predict_proba(X_test)[:, 1]\n",
    "\n",
    "# 2. Compute ROC-AUC score\n",
    "roc_auc = roc_auc_score(y_test, y_proba)\n",
    "print(\"ROC-AUC Score:\", roc_auc)\n",
    "\n",
    "# 3. Compute ROC curve values\n",
    "fpr, tpr, thresholds = roc_curve(y_test, y_proba)\n",
    "\n",
    "# 4. Plot ROC curve\n",
    "plt.figure(figsize=(6,6))\n",
    "plt.plot(fpr, tpr, color='blue', label=f'ROC Curve (AUC = {roc_auc:.3f})')\n",
    "plt.plot([0,1], [0,1], color='red', linestyle='--')  # diagonal line\n",
    "plt.xlabel('False Positive Rate')\n",
    "plt.ylabel('True Positive Rate')\n",
    "plt.title('ROC Curve - Random Forest')\n",
    "plt.legend()\n",
    "plt.show()\n"
   ]
  },
  {
   "cell_type": "markdown",
   "id": "da9a26fa",
   "metadata": {},
   "source": [
    "Insights from Random Forest Model (after SMOTE and Tuning):\n",
    "\n",
    "Accuracy: The overall accuracy is 76%. This is a balanced improvement over the Decision Tree and Logistic Regression models after they were run with SMOTE, indicating a strong performance across both classes.\n",
    "\n",
    "Precision: The precision for churners (class 1) is 54%. This is the highest precision score of all the models we've trained. It means that when the Random Forest model predicts a customer will churn, it's correct over half the time. This is valuable for a business, as it reduces the number of \"false alarms\" (loyal customers who are incorrectly flagged as churners).\n",
    "\n",
    "Recall: The recall for churners is 65.5%. This is a very strong score, showing the model correctly identifies over 65% of all actual churners. While slightly lower than the Decision Tree's recall, it's a great improvement over our initial models.\n",
    "\n",
    "F1 Score: The F1 Score is 0.59, which is the highest of all the models so far. This score represents the best balance between precision and recall, making the Random Forest model the most well-rounded and reliable performer in our comparison.\n",
    "\n",
    "ROC-AUC Score: The ROC-AUC score is 0.815, which is a very good result. This shows that the model has a strong ability to distinguish between churners and non-churners.\n",
    "\n",
    "Conclusion:\n",
    "\n",
    "After hyperparameter tuning and using SMOTE, the Random Forest model is the best-performing model for this project. It offers the most optimal balance between Recall (catching at-risk customers) and Precision (avoiding false alarms). The model's strong F1 score indicates it is the most robust and reliable model to use for a business looking to create an effective and efficient churn retention strategy."
   ]
  },
  {
   "cell_type": "markdown",
   "id": "0134d701",
   "metadata": {},
   "source": [
    "##visualize Feature Importance — this will show which features Random Forest thinks are most important for churn."
   ]
  },
  {
   "cell_type": "code",
   "execution_count": 137,
   "id": "9ac97a5b",
   "metadata": {},
   "outputs": [],
   "source": [
    "#Get feature importances from the trained model\n",
    "importances = rf_model.feature_importances_\n",
    "feature_names = X.columns"
   ]
  },
  {
   "cell_type": "code",
   "execution_count": 138,
   "id": "ba31e8f3",
   "metadata": {},
   "outputs": [
    {
     "data": {
      "text/html": [
       "<div>\n",
       "<style scoped>\n",
       "    .dataframe tbody tr th:only-of-type {\n",
       "        vertical-align: middle;\n",
       "    }\n",
       "\n",
       "    .dataframe tbody tr th {\n",
       "        vertical-align: top;\n",
       "    }\n",
       "\n",
       "    .dataframe thead th {\n",
       "        text-align: right;\n",
       "    }\n",
       "</style>\n",
       "<table border=\"1\" class=\"dataframe\">\n",
       "  <thead>\n",
       "    <tr style=\"text-align: right;\">\n",
       "      <th></th>\n",
       "      <th>Feature</th>\n",
       "      <th>Importance</th>\n",
       "    </tr>\n",
       "  </thead>\n",
       "  <tbody>\n",
       "    <tr>\n",
       "      <th>8</th>\n",
       "      <td>TotalCharges</td>\n",
       "      <td>0.198838</td>\n",
       "    </tr>\n",
       "    <tr>\n",
       "      <th>4</th>\n",
       "      <td>tenure</td>\n",
       "      <td>0.171546</td>\n",
       "    </tr>\n",
       "    <tr>\n",
       "      <th>7</th>\n",
       "      <td>MonthlyCharges</td>\n",
       "      <td>0.168485</td>\n",
       "    </tr>\n",
       "    <tr>\n",
       "      <th>28</th>\n",
       "      <td>PaymentMethod_Electronic check</td>\n",
       "      <td>0.039660</td>\n",
       "    </tr>\n",
       "    <tr>\n",
       "      <th>11</th>\n",
       "      <td>InternetService_Fiber optic</td>\n",
       "      <td>0.035149</td>\n",
       "    </tr>\n",
       "    <tr>\n",
       "      <th>0</th>\n",
       "      <td>gender</td>\n",
       "      <td>0.028965</td>\n",
       "    </tr>\n",
       "    <tr>\n",
       "      <th>26</th>\n",
       "      <td>Contract_Two year</td>\n",
       "      <td>0.026683</td>\n",
       "    </tr>\n",
       "    <tr>\n",
       "      <th>14</th>\n",
       "      <td>OnlineSecurity_Yes</td>\n",
       "      <td>0.026053</td>\n",
       "    </tr>\n",
       "    <tr>\n",
       "      <th>6</th>\n",
       "      <td>PaperlessBilling</td>\n",
       "      <td>0.025548</td>\n",
       "    </tr>\n",
       "    <tr>\n",
       "      <th>20</th>\n",
       "      <td>TechSupport_Yes</td>\n",
       "      <td>0.023722</td>\n",
       "    </tr>\n",
       "  </tbody>\n",
       "</table>\n",
       "</div>"
      ],
      "text/plain": [
       "                           Feature  Importance\n",
       "8                     TotalCharges    0.198838\n",
       "4                           tenure    0.171546\n",
       "7                   MonthlyCharges    0.168485\n",
       "28  PaymentMethod_Electronic check    0.039660\n",
       "11     InternetService_Fiber optic    0.035149\n",
       "0                           gender    0.028965\n",
       "26               Contract_Two year    0.026683\n",
       "14              OnlineSecurity_Yes    0.026053\n",
       "6                 PaperlessBilling    0.025548\n",
       "20                 TechSupport_Yes    0.023722"
      ]
     },
     "execution_count": 138,
     "metadata": {},
     "output_type": "execute_result"
    }
   ],
   "source": [
    "#Put into a DataFrame for better viewing\n",
    "import pandas as pd\n",
    "\n",
    "# Create DataFrame with feature names and importance scores\n",
    "feat_imp = pd.DataFrame({\n",
    "    'Feature': feature_names,\n",
    "    'Importance': importances\n",
    "})\n",
    "\n",
    "# Sort by importance\n",
    "feat_imp = feat_imp.sort_values(by='Importance', ascending=False)\n",
    "\n",
    "feat_imp.head(10)   # top 10 important features"
   ]
  },
  {
   "cell_type": "code",
   "execution_count": 139,
   "id": "0e7aa186",
   "metadata": {},
   "outputs": [
    {
     "data": {
      "image/png": "[encoded data removed]",
      "text/plain": [
       "<Figure size 1000x600 with 1 Axes>"
      ]
     },
     "metadata": {},
     "output_type": "display_data"
    }
   ],
   "source": [
    "#Visualize top 15 important features\n",
    "plt.figure(figsize=(10,6))\n",
    "sns.barplot(\n",
    "    x='Importance', \n",
    "    y='Feature', \n",
    "    data=feat_imp.head(15), \n",
    "    palette='viridis',\n",
    "    hue='Feature',       # explicitly assign hue\n",
    "    dodge=False,         # avoid extra spacing\n",
    "    legend=False         # turn off legend (since hue is just Feature)\n",
    ")\n",
    "plt.title(\"Top 15 Important Features - Random Forest\")\n",
    "plt.show()\n"
   ]
  },
  {
   "cell_type": "markdown",
   "id": "a6cce0cb",
   "metadata": {},
   "source": [
    "Insights from Random Forest Feature Importance:\n",
    "\n",
    "Top Predictors are Financial & Relational: The most important features for predicting churn are TotalCharges, tenure, and MonthlyCharges. This confirms that a customer's financial history and loyalty are the most powerful indicators of whether they will churn.\n",
    "\n",
    "tenure (how long the customer has been with the company) is a key measure of loyalty.\n",
    "\n",
    "TotalCharges (the total amount paid over time) and MonthlyCharges (the current cost) are strong indicators of a customer's overall value and cost sensitivity.\n",
    "\n",
    "Payment Method Matters: The PaymentMethod_Electronic check feature is the fourth most important. This is a significant business insight, suggesting that customers using this specific payment method have a higher risk of churning compared to those who use other methods. This is an actionable insight for the business.\n",
    "\n",
    "Internet Service is Critical: InternetService_Fiber optic is also a highly important feature. This suggests that customers on this plan have a higher churn risk, possibly due to service quality issues or a more competitive market for fiber services.\n",
    "\n",
    "Retention Services Have an Impact: Features like OnlineSecurity_Yes and TechSupport_Yes appear in the top 10 most important features. This is a valuable insight because it shows that these services act as protective factors, making customers who use them less likely to churn.\n",
    "\n",
    "Demographics are Less Important: Demographics like gender and SeniorCitizen have a much lower impact on the model's prediction. This tells us that the model relies more on a customer's behavior and service usage than on their personal characteristics.\n",
    "\n",
    "Conclusion: The feature importance analysis provides clear, actionable insights for the business. To reduce churn, the company should focus on retaining newer customers, addressing issues with Electronic check payments, and improving the experience for Fiber optic users. "
   ]
  },
  {
   "cell_type": "code",
   "execution_count": null,
   "id": "cfa12df1",
   "metadata": {},
   "outputs": [],
   "source": []
  },
  {
   "cell_type": "markdown",
   "id": "9084d781",
   "metadata": {},
   "source": [
    "Model Comparison: Logistic Regression vs. Random Forest\n",
    "\n",
    "After applying SMOTE to address class imbalance and tuning the Random Forest model, we can now make a more informed decision about which model is best for this business problem.\n",
    "\n",
    "Logistic Regression Performance:\n",
    "\n",
    "Accuracy: 73.06%\n",
    "\n",
    "Precision: 49.53%\n",
    "\n",
    "Recall: 69.79%\n",
    "\n",
    "F1 Score: 0.5794\n",
    "\n",
    "Random Forest Performance:\n",
    "\n",
    "Accuracy: 76.04%\n",
    "\n",
    "Precision: 54.08%\n",
    "\n",
    "Recall: 65.50%\n",
    "\n",
    "F1 Score: 0.5925\n",
    "\n",
    "Analysis of Results:\n",
    "\n",
    "Recall vs. Precision Trade-off: The most important takeaway is the trade-off between Recall and Precision.\n",
    "\n",
    "The Logistic Regression model has a higher Recall (almost 70%), which means it is better at correctly identifying actual churners. This is a crucial metric for a business that wants to take proactive steps to retain at-risk customers.\n",
    "\n",
    "The Random Forest model has a higher Precision (54%), meaning that when it flags a customer as a churner, it is more often correct. This reduces the number of \"false alarms\" and ensures that retention efforts are targeted more efficiently.\n",
    "\n",
    "Overall Performance (F1 Score): The F1 Score is a balanced metric that considers both precision and recall.\n",
    "\n",
    "The Random Forest model's F1 Score of 0.5925 is slightly better than the Logistic Regression model's score. This suggests that the Random Forest model provides a more optimal balance for this project.\n",
    "\n",
    "Accuracy: The Random Forest model also has a higher overall accuracy, at 76%.\n",
    "\n",
    "Conclusion:\n",
    "\n",
    "While both models show a significant improvement after using SMOTE, the Random Forest model is the best choice for deployment. It provides the most well-rounded performance, with the highest F1 Score and Accuracy. Its higher Precision is a key advantage, ensuring that a business can target its retention efforts more effectively and with fewer resources wasted on loyal customers who are not actually at risk. We would recommend using the tuned Random Forest model to power the churn prediction app."
   ]
  },
  {
   "cell_type": "code",
   "execution_count": null,
   "id": "1f10f74d",
   "metadata": {},
   "outputs": [],
   "source": []
  }
 ],
 "metadata": {
  "kernelspec": {
   "display_name": "Python 3",
   "language": "python",
   "name": "python3"
  },
  "language_info": {
   "codemirror_mode": {
    "name": "ipython",
    "version": 3
   },
   "file_extension": ".py",
   "mimetype": "text/x-python",
   "name": "python",
   "nbconvert_exporter": "python",
   "pygments_lexer": "ipython3",
   "version": "3.12.0"
  }
 },
 "nbformat": 4,
 "nbformat_minor": 5
}
