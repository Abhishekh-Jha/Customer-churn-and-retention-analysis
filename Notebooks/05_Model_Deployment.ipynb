{
 "cells": [
  {
   "cell_type": "code",
   "execution_count": 37,
   "id": "1b83b125",
   "metadata": {},
   "outputs": [],
   "source": [
    "import joblib\n",
    "import pandas as pd\n",
    "import numpy as np\n",
    "\n",
    "# Load all the pre-trained assets\n",
    "log_reg = joblib.load(\"logistic_churn_model.pkl\")\n",
    "dt_model = joblib.load(\"decision_tree_churn_model.pkl\")\n",
    "best_rf_model = joblib.load(\"random_forest_churn_model.pkl\")\n",
    "scaler = joblib.load(\"scaler.pkl\")\n",
    "\n",
    "# Define the exact list of columns from the training data\n",
    "# You can get this from your X.columns in the 03_modeling.ipynb notebook\n",
    "TRAINING_COLUMNS = ['gender', 'SeniorCitizen', 'Partner', 'Dependents', 'tenure',\n",
    "                    'PhoneService', 'PaperlessBilling', 'MonthlyCharges', 'TotalCharges',\n",
    "                    'MultipleLines_No phone service', 'MultipleLines_Yes',\n",
    "                    'InternetService_Fiber optic', 'InternetService_No',\n",
    "                    'OnlineSecurity_No internet service', 'OnlineSecurity_Yes',\n",
    "                    'OnlineBackup_No internet service', 'OnlineBackup_Yes',\n",
    "                    'DeviceProtection_No internet service', 'DeviceProtection_Yes',\n",
    "                    'TechSupport_No internet service', 'TechSupport_Yes',\n",
    "                    'StreamingTV_No internet service', 'StreamingTV_Yes',\n",
    "                    'StreamingMovies_No internet service', 'StreamingMovies_Yes',\n",
    "                    'Contract_One year', 'Contract_Two year',\n",
    "                    'PaymentMethod_Credit card (automatic)',\n",
    "                    'PaymentMethod_Electronic check', 'PaymentMethod_Mailed check']\n",
    "\n",
    "\n",
    "def predict_churn(customer_data, model_name='Random Forest'):\n",
    "    \"\"\"\n",
    "    Predicts churn for a single new customer.\n",
    "\n",
    "    Args:\n",
    "        customer_data (dict): A dictionary with the customer's raw data.\n",
    "        model_name (str): The name of the model to use ('Logistic Regression', 'Decision Tree', 'Random Forest').\n",
    "\n",
    "    Returns:\n",
    "        dict: A dictionary containing the prediction and probability of churn.\n",
    "    \"\"\"\n",
    "    # 1. Create a DataFrame from the new data\n",
    "    new_df = pd.DataFrame([customer_data])\n",
    "\n",
    "    # 2. Add any missing columns from the original training data (important for one-hot encoding)\n",
    "    new_df = new_df.reindex(columns=TRAINING_COLUMNS, fill_value=0)\n",
    "\n",
    "    # 3. Scale numerical features using the saved scaler\n",
    "    numeric_cols = ['tenure', 'MonthlyCharges', 'TotalCharges']\n",
    "    new_df[numeric_cols] = scaler.transform(new_df[numeric_cols])\n",
    "\n",
    "    # 4. Select the correct model\n",
    "    if model_name == 'Logistic Regression':\n",
    "        model = log_reg\n",
    "    elif model_name == 'Decision Tree':\n",
    "        model = dt_model\n",
    "    else:\n",
    "        model = best_rf_model\n",
    "\n",
    "    # 5. Make the prediction\n",
    "    prediction = model.predict(new_df)[0]\n",
    "    probability_of_churn = model.predict_proba(new_df)[0][1]\n",
    "\n",
    "    # 6. Return a user-friendly result\n",
    "    result = {\n",
    "        'model_used': model_name,\n",
    "        'prediction': 'Churn' if prediction == 1 else 'No Churn',\n",
    "        'probability_of_churn': round(probability_of_churn, 2)\n",
    "    }\n",
    "    return result"
   ]
  },
  {
   "cell_type": "code",
   "execution_count": 38,
   "id": "1cb10c1c",
   "metadata": {},
   "outputs": [
    {
     "name": "stdout",
     "output_type": "stream",
     "text": [
      "Random Forest Prediction: {'model_used': 'Random Forest', 'prediction': 'Churn', 'probability_of_churn': np.float64(0.78)}\n"
     ]
    }
   ],
   "source": [
    "# Example of a new customer who is likely to churn\n",
    "customer_to_predict = {\n",
    "    'gender': 0, 'SeniorCitizen': 0, 'Partner': 0, 'Dependents': 0, 'tenure': 5,\n",
    "    'PhoneService': 1, 'PaperlessBilling': 1, 'MonthlyCharges': 80.0, 'TotalCharges': 400.0,\n",
    "    'MultipleLines_Yes': 1, 'InternetService_Fiber optic': 1,\n",
    "    'OnlineSecurity_No internet service': 0, 'OnlineSecurity_Yes': 0,\n",
    "    'OnlineBackup_No internet service': 0, 'OnlineBackup_Yes': 0,\n",
    "    'DeviceProtection_No internet service': 0, 'DeviceProtection_Yes': 0,\n",
    "    'TechSupport_No internet service': 0, 'TechSupport_Yes': 0,\n",
    "    'StreamingTV_No internet service': 0, 'StreamingTV_Yes': 0,\n",
    "    'StreamingMovies_No internet service': 0, 'StreamingMovies_Yes': 0,\n",
    "    'Contract_One year': 0, 'Contract_Two year': 0,\n",
    "    'PaymentMethod_Electronic check': 1,\n",
    "    'TotalServices': 5, 'AvgCharges': 16, 'TotalRevenue': 400\n",
    "}\n",
    "\n",
    "# Get a prediction using the tuned Random Forest model\n",
    "prediction = predict_churn(customer_to_predict, model_name='Random Forest')\n",
    "print(f\"Random Forest Prediction: {prediction}\")"
   ]
  },
  {
   "cell_type": "code",
   "execution_count": null,
   "id": "3775529d",
   "metadata": {},
   "outputs": [],
   "source": []
  },
  {
   "cell_type": "code",
   "execution_count": null,
   "id": "78a271f8",
   "metadata": {},
   "outputs": [],
   "source": []
  },
  {
   "cell_type": "code",
   "execution_count": null,
   "id": "b2fbac11",
   "metadata": {},
   "outputs": [],
   "source": []
  },
  {
   "cell_type": "code",
   "execution_count": null,
   "id": "e4cda4ba",
   "metadata": {},
   "outputs": [],
   "source": []
  }
 ],
 "metadata": {
  "kernelspec": {
   "display_name": "Python 3",
   "language": "python",
   "name": "python3"
  },
  "language_info": {
   "codemirror_mode": {
    "name": "ipython",
    "version": 3
   },
   "file_extension": ".py",
   "mimetype": "text/x-python",
   "name": "python",
   "nbconvert_exporter": "python",
   "pygments_lexer": "ipython3",
   "version": "3.12.0"
  }
 },
 "nbformat": 4,
 "nbformat_minor": 5
}
